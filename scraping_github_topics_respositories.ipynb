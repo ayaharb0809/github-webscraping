{
  "nbformat": 4,
  "nbformat_minor": 0,
  "metadata": {
    "kernelspec": {
      "display_name": "Python 3",
      "language": "python",
      "name": "python3"
    },
    "language_info": {
      "codemirror_mode": {
        "name": "ipython",
        "version": 3
      },
      "file_extension": ".py",
      "mimetype": "text/x-python",
      "name": "python",
      "nbconvert_exporter": "python",
      "pygments_lexer": "ipython3",
      "version": "3.7.6"
    },
    "colab": {
      "name": "scraping-github-topics-respositories.ipynb",
      "provenance": [],
      "include_colab_link": true
    }
  },
  "cells": [
    {
      "cell_type": "markdown",
      "metadata": {
        "id": "view-in-github",
        "colab_type": "text"
      },
      "source": [
        "<a href=\"https://colab.research.google.com/github/ayaharb0809/github-webscraping/blob/main/scraping_github_topics_respositories.ipynb\" target=\"_parent\"><img src=\"https://colab.research.google.com/assets/colab-badge.svg\" alt=\"Open In Colab\"/></a>"
      ]
    },
    {
      "cell_type": "code",
      "metadata": {
        "colab": {
          "base_uri": "https://localhost:8080/"
        },
        "id": "A_KRJ2M3OaSj",
        "outputId": "c755d3f5-3c5f-40e5-ff14-a8c7db268732"
      },
      "source": [
        "# Jovian Commit Essentials\n",
        "# Please retain and execute this cell without modifying the contents for `jovian.commit` to work\n",
        "!pip install jovian --upgrade -q\n",
        "import jovian\n",
        "jovian.set_project('scraping-github-topics-respositories')\n",
        "jovian.set_colab_id('1vEo_DcFD93shNLgxoRoCGtV47su4FFr-')"
      ],
      "execution_count": null,
      "outputs": [
        {
          "output_type": "stream",
          "name": "stdout",
          "text": [
            "\u001b[?25l\r\u001b[K     |████▊                           | 10 kB 28.3 MB/s eta 0:00:01\r\u001b[K     |█████████▌                      | 20 kB 35.7 MB/s eta 0:00:01\r\u001b[K     |██████████████▎                 | 30 kB 31.9 MB/s eta 0:00:01\r\u001b[K     |███████████████████             | 40 kB 22.6 MB/s eta 0:00:01\r\u001b[K     |███████████████████████▉        | 51 kB 16.8 MB/s eta 0:00:01\r\u001b[K     |████████████████████████████▋   | 61 kB 12.3 MB/s eta 0:00:01\r\u001b[K     |████████████████████████████████| 68 kB 4.2 MB/s \n",
            "\u001b[?25h  Building wheel for uuid (setup.py) ... \u001b[?25l\u001b[?25hdone\n"
          ]
        }
      ]
    },
    {
      "cell_type": "markdown",
      "metadata": {
        "id": "RqmrKPkvOaSo"
      },
      "source": [
        "# Top respositories from Github\n",
        "\n"
      ]
    },
    {
      "cell_type": "code",
      "metadata": {
        "id": "3P_veaiNOaSr"
      },
      "source": [
        "!pip install jovian --upgrade --quiet"
      ],
      "execution_count": null,
      "outputs": []
    },
    {
      "cell_type": "code",
      "metadata": {
        "id": "-tD4kaanOaSs"
      },
      "source": [
        "import jovian"
      ],
      "execution_count": null,
      "outputs": []
    },
    {
      "cell_type": "code",
      "metadata": {
        "colab": {
          "base_uri": "https://localhost:8080/",
          "height": 140
        },
        "id": "4ReMTs7zOaSs",
        "outputId": "06ebcd22-e0cd-4a86-fad7-c9ef71d0a2b9"
      },
      "source": [
        "# Execute this to save new versions of the notebook\n",
        "jovian.commit(project=\"scraping-github-topics-respositories\")"
      ],
      "execution_count": null,
      "outputs": [
        {
          "output_type": "stream",
          "name": "stdout",
          "text": [
            "[jovian] Detected Colab notebook...\u001b[0m\n",
            "[jovian] Please enter your API key ( from https://jovian.ai/ ):\u001b[0m\n",
            "API KEY: ··········\n",
            "[jovian] Uploading colab notebook to Jovian...\u001b[0m\n",
            "Committed successfully! https://jovian.ai/shawolaya/scraping-github-topics-respositories\n"
          ]
        },
        {
          "output_type": "execute_result",
          "data": {
            "application/vnd.google.colaboratory.intrinsic+json": {
              "type": "string"
            },
            "text/plain": [
              "'https://jovian.ai/shawolaya/scraping-github-topics-respositories'"
            ]
          },
          "metadata": {},
          "execution_count": 4
        }
      ]
    },
    {
      "cell_type": "markdown",
      "metadata": {
        "id": "W_3N4n0yO7VI"
      },
      "source": [
        "## pick a website and describe objective\n",
        " - we'll scrape github.com/topics\n",
        " - we'll get the title, username, stars, URL, and description.\n",
        " - we'll get the top 25 repos for each topic"
      ]
    },
    {
      "cell_type": "markdown",
      "metadata": {
        "id": "uCyU06pZO_a2"
      },
      "source": [
        "## Use the requests library to download web pages"
      ]
    },
    {
      "cell_type": "code",
      "metadata": {
        "colab": {
          "base_uri": "https://localhost:8080/"
        },
        "id": "4lQSxLpsPEKO",
        "outputId": "ca3391c7-b433-4b85-d58b-5bd9bdaa17f3"
      },
      "source": [
        "!pip install requests --upgrade --quiet"
      ],
      "execution_count": null,
      "outputs": [
        {
          "output_type": "stream",
          "name": "stdout",
          "text": [
            "\u001b[?25l\r\u001b[K     |█████▎                          | 10 kB 26.0 MB/s eta 0:00:01\r\u001b[K     |██████████▌                     | 20 kB 29.8 MB/s eta 0:00:01\r\u001b[K     |███████████████▉                | 30 kB 35.2 MB/s eta 0:00:01\r\u001b[K     |█████████████████████           | 40 kB 37.6 MB/s eta 0:00:01\r\u001b[K     |██████████████████████████▎     | 51 kB 17.0 MB/s eta 0:00:01\r\u001b[K     |███████████████████████████████▋| 61 kB 15.2 MB/s eta 0:00:01\r\u001b[K     |████████████████████████████████| 62 kB 673 kB/s \n",
            "\u001b[31mERROR: pip's dependency resolver does not currently take into account all the packages that are installed. This behaviour is the source of the following dependency conflicts.\n",
            "google-colab 1.0.0 requires requests~=2.23.0, but you have requests 2.26.0 which is incompatible.\n",
            "datascience 0.10.6 requires folium==0.2.1, but you have folium 0.8.3 which is incompatible.\u001b[0m\n",
            "\u001b[?25h"
          ]
        }
      ]
    },
    {
      "cell_type": "code",
      "metadata": {
        "id": "Pn9b4PuRPEHd"
      },
      "source": [
        "import requests"
      ],
      "execution_count": null,
      "outputs": []
    },
    {
      "cell_type": "code",
      "metadata": {
        "id": "h9c0s2veQwxZ"
      },
      "source": [
        "topics_url = 'https://github.com/topics'\n",
        "response = requests.get(topics_url)"
      ],
      "execution_count": null,
      "outputs": []
    },
    {
      "cell_type": "code",
      "metadata": {
        "colab": {
          "base_uri": "https://localhost:8080/"
        },
        "id": "omm-tH2gQw0J",
        "outputId": "9f5195af-16b4-487d-88f4-f7234978ed59"
      },
      "source": [
        "response.status_code "
      ],
      "execution_count": null,
      "outputs": [
        {
          "output_type": "execute_result",
          "data": {
            "text/plain": [
              "200"
            ]
          },
          "metadata": {},
          "execution_count": 8
        }
      ]
    },
    {
      "cell_type": "code",
      "metadata": {
        "colab": {
          "base_uri": "https://localhost:8080/"
        },
        "id": "_3gXOxkNRbav",
        "outputId": "9a5c8645-1b78-4310-e1ed-707ea27a759b"
      },
      "source": [
        "len(response.text)"
      ],
      "execution_count": null,
      "outputs": [
        {
          "output_type": "execute_result",
          "data": {
            "text/plain": [
              "146839"
            ]
          },
          "metadata": {},
          "execution_count": 9
        }
      ]
    },
    {
      "cell_type": "markdown",
      "metadata": {
        "id": "SMYLSdpFPE7E"
      },
      "source": [
        "## Use beautiful soup to parse and extract info"
      ]
    },
    {
      "cell_type": "code",
      "metadata": {
        "colab": {
          "base_uri": "https://localhost:8080/",
          "height": 256
        },
        "id": "oe_btMy-PLkN",
        "outputId": "98d21775-4a72-4a04-ab5b-276d07cc1675"
      },
      "source": [
        "page_contents = response.text\n",
        "page_contents[:1000]"
      ],
      "execution_count": null,
      "outputs": [
        {
          "output_type": "execute_result",
          "data": {
            "application/vnd.google.colaboratory.intrinsic+json": {
              "type": "string"
            },
            "text/plain": [
              "'\\n\\n<!DOCTYPE html>\\n<html lang=\"en\" data-color-mode=\"auto\" data-light-theme=\"light\" data-dark-theme=\"dark\">\\n  <head>\\n    <meta charset=\"utf-8\">\\n  <link rel=\"dns-prefetch\" href=\"https://github.githubassets.com\">\\n  <link rel=\"dns-prefetch\" href=\"https://avatars.githubusercontent.com\">\\n  <link rel=\"dns-prefetch\" href=\"https://github-cloud.s3.amazonaws.com\">\\n  <link rel=\"dns-prefetch\" href=\"https://user-images.githubusercontent.com/\">\\n  <link rel=\"preconnect\" href=\"https://github.githubassets.com\" crossorigin>\\n  <link rel=\"preconnect\" href=\"https://avatars.githubusercontent.com\">\\n\\n\\n\\n  <link crossorigin=\"anonymous\" media=\"all\" integrity=\"sha512-L06pZD/4Yecj8D8pY5aYfA7oKG6CI8/hlx2K9ZlXOS/j5TnYEjrusaVa9ZIb9O3/tBHmnRFLzaC1ixcafWtaAg==\" rel=\"stylesheet\" href=\"https://github.githubassets.com/assets/light-2f4ea9643ff861e723f03f296396987c.css\" /><link crossorigin=\"anonymous\" media=\"all\" integrity=\"sha512-xcx3R1NmKjgOAE2DsCHYbus068pwqr4i3Xaa1osduISrxqYFi3zIaBLqjzt5FM9VSHqFN7mneFXK73Z9a2QRJg==\" rel=\"s'"
            ]
          },
          "metadata": {},
          "execution_count": 10
        }
      ]
    },
    {
      "cell_type": "code",
      "metadata": {
        "id": "SjAnNEfDRuFH"
      },
      "source": [
        "with open('webpage.html', 'w') as f:\n",
        "  f.write(page_contents)"
      ],
      "execution_count": null,
      "outputs": []
    },
    {
      "cell_type": "code",
      "metadata": {
        "colab": {
          "base_uri": "https://localhost:8080/"
        },
        "id": "_r2BtwL_RuPx",
        "outputId": "c4f6077a-b4ac-4d25-fe56-fd7e2b4805b5"
      },
      "source": [
        "!pip install beautifulsoup4 --upgrade --quiet"
      ],
      "execution_count": null,
      "outputs": [
        {
          "output_type": "stream",
          "name": "stdout",
          "text": [
            "\u001b[?25l\r\u001b[K     |███▍                            | 10 kB 13.6 MB/s eta 0:00:01\r\u001b[K     |██████▊                         | 20 kB 16.8 MB/s eta 0:00:01\r\u001b[K     |██████████                      | 30 kB 20.7 MB/s eta 0:00:01\r\u001b[K     |█████████████▌                  | 40 kB 23.3 MB/s eta 0:00:01\r\u001b[K     |████████████████▉               | 51 kB 16.7 MB/s eta 0:00:01\r\u001b[K     |████████████████████▏           | 61 kB 12.7 MB/s eta 0:00:01\r\u001b[K     |███████████████████████▌        | 71 kB 11.1 MB/s eta 0:00:01\r\u001b[K     |███████████████████████████     | 81 kB 12.4 MB/s eta 0:00:01\r\u001b[K     |██████████████████████████████▎ | 92 kB 13.6 MB/s eta 0:00:01\r\u001b[K     |████████████████████████████████| 97 kB 3.9 MB/s \n",
            "\u001b[?25h"
          ]
        }
      ]
    },
    {
      "cell_type": "code",
      "metadata": {
        "id": "Z-TsqeVLRuTY"
      },
      "source": [
        "from bs4 import BeautifulSoup"
      ],
      "execution_count": null,
      "outputs": []
    },
    {
      "cell_type": "code",
      "metadata": {
        "id": "ZttkUfJhSxlH"
      },
      "source": [
        "doc = BeautifulSoup(page_contents, 'html.parser')"
      ],
      "execution_count": null,
      "outputs": []
    },
    {
      "cell_type": "code",
      "metadata": {
        "id": "cUE2r0fwTOJA"
      },
      "source": [
        "selection_class = 'f3 lh-condensed mb-0 mt-1 Link--primary'\n",
        "topic_title_tags = doc.find_all('p', {'class' : selection_class})"
      ],
      "execution_count": null,
      "outputs": []
    },
    {
      "cell_type": "code",
      "metadata": {
        "colab": {
          "base_uri": "https://localhost:8080/"
        },
        "id": "wJp8jaXcTOLy",
        "outputId": "f6e05543-78d1-4cdf-975d-0e00cc3d17f4"
      },
      "source": [
        "len(topic_title_tags)"
      ],
      "execution_count": null,
      "outputs": [
        {
          "output_type": "execute_result",
          "data": {
            "text/plain": [
              "30"
            ]
          },
          "metadata": {},
          "execution_count": 16
        }
      ]
    },
    {
      "cell_type": "code",
      "metadata": {
        "colab": {
          "base_uri": "https://localhost:8080/"
        },
        "id": "CAVjKvhzTxuF",
        "outputId": "e7155ec6-5123-4786-f3e0-9623942fdaab"
      },
      "source": [
        "topic_title_tags[:5]"
      ],
      "execution_count": null,
      "outputs": [
        {
          "output_type": "execute_result",
          "data": {
            "text/plain": [
              "[<p class=\"f3 lh-condensed mb-0 mt-1 Link--primary\">3D</p>,\n",
              " <p class=\"f3 lh-condensed mb-0 mt-1 Link--primary\">Ajax</p>,\n",
              " <p class=\"f3 lh-condensed mb-0 mt-1 Link--primary\">Algorithm</p>,\n",
              " <p class=\"f3 lh-condensed mb-0 mt-1 Link--primary\">Amp</p>,\n",
              " <p class=\"f3 lh-condensed mb-0 mt-1 Link--primary\">Android</p>]"
            ]
          },
          "metadata": {},
          "execution_count": 17
        }
      ]
    },
    {
      "cell_type": "code",
      "metadata": {
        "id": "ro_00IoNTx5I"
      },
      "source": [
        "desc_selector = 'f5 color-fg-muted mb-0 mt-1'\n",
        "topic_desc_tags = doc.find_all('p', {'class' : desc_selector})"
      ],
      "execution_count": null,
      "outputs": []
    },
    {
      "cell_type": "code",
      "metadata": {
        "colab": {
          "base_uri": "https://localhost:8080/"
        },
        "id": "pefUAjPzTyCE",
        "outputId": "4574befc-6042-48e7-c3f3-17da2a1af86b"
      },
      "source": [
        "topic_desc_tags[:5]"
      ],
      "execution_count": null,
      "outputs": [
        {
          "output_type": "execute_result",
          "data": {
            "text/plain": [
              "[<p class=\"f5 color-fg-muted mb-0 mt-1\">\n",
              "               3D modeling is the process of virtually developing the surface and structure of a 3D object.\n",
              "             </p>, <p class=\"f5 color-fg-muted mb-0 mt-1\">\n",
              "               Ajax is a technique for creating interactive web applications.\n",
              "             </p>, <p class=\"f5 color-fg-muted mb-0 mt-1\">\n",
              "               Algorithms are self-contained sequences that carry out a variety of tasks.\n",
              "             </p>, <p class=\"f5 color-fg-muted mb-0 mt-1\">\n",
              "               Amp is a non-blocking concurrency framework for PHP.\n",
              "             </p>, <p class=\"f5 color-fg-muted mb-0 mt-1\">\n",
              "               Android is an operating system built by Google designed for mobile devices.\n",
              "             </p>]"
            ]
          },
          "metadata": {},
          "execution_count": 19
        }
      ]
    },
    {
      "cell_type": "code",
      "metadata": {
        "id": "kG5fV6DFVMNS"
      },
      "source": [
        "topic_title_tags0 = topic_desc_tags[0]"
      ],
      "execution_count": null,
      "outputs": []
    },
    {
      "cell_type": "code",
      "metadata": {
        "colab": {
          "base_uri": "https://localhost:8080/"
        },
        "id": "L6xTxNI8VMQV",
        "outputId": "690b7a72-8972-43f2-b95e-d9ec089223f7"
      },
      "source": [
        "topic_title_tags0.parent"
      ],
      "execution_count": null,
      "outputs": [
        {
          "output_type": "execute_result",
          "data": {
            "text/plain": [
              "<div class=\"flex-auto\">\n",
              "<p class=\"f3 lh-condensed mb-0 mt-1 Link--primary\">3D</p>\n",
              "<p class=\"f5 color-fg-muted mb-0 mt-1\">\n",
              "              3D modeling is the process of virtually developing the surface and structure of a 3D object.\n",
              "            </p>\n",
              "</div>"
            ]
          },
          "metadata": {},
          "execution_count": 21
        }
      ]
    },
    {
      "cell_type": "code",
      "metadata": {
        "id": "V-l0fpvxVMTh"
      },
      "source": [
        "topic_link_tags = doc.find_all('a', {'class':'d-flex no-underline'})"
      ],
      "execution_count": null,
      "outputs": []
    },
    {
      "cell_type": "code",
      "metadata": {
        "colab": {
          "base_uri": "https://localhost:8080/"
        },
        "id": "ve8KTf3qVMVY",
        "outputId": "4ccec281-d435-4915-d40e-147d3b405efa"
      },
      "source": [
        "len(topic_link_tags)"
      ],
      "execution_count": null,
      "outputs": [
        {
          "output_type": "execute_result",
          "data": {
            "text/plain": [
              "30"
            ]
          },
          "metadata": {},
          "execution_count": 23
        }
      ]
    },
    {
      "cell_type": "code",
      "metadata": {
        "colab": {
          "base_uri": "https://localhost:8080/"
        },
        "id": "NPosKkHhV6yN",
        "outputId": "506be12a-e7e7-445a-c6a2-ae5b4cfcb20a"
      },
      "source": [
        "topic0_url = 'https://github.com' + topic_link_tags[0]['href']\n",
        "print(topic0_url)"
      ],
      "execution_count": null,
      "outputs": [
        {
          "output_type": "stream",
          "name": "stdout",
          "text": [
            "https://github.com/topics/3d\n"
          ]
        }
      ]
    },
    {
      "cell_type": "code",
      "metadata": {
        "colab": {
          "base_uri": "https://localhost:8080/"
        },
        "id": "njbbrGmYV63M",
        "outputId": "ecee0a6a-7d3a-4e3f-de1a-413a31b498ae"
      },
      "source": [
        "topic_titles = []\n",
        "\n",
        "for tag in topic_title_tags:\n",
        "  topic_titles.append(tag.text)\n",
        "print(topic_titles)"
      ],
      "execution_count": null,
      "outputs": [
        {
          "output_type": "stream",
          "name": "stdout",
          "text": [
            "['3D', 'Ajax', 'Algorithm', 'Amp', 'Android', 'Angular', 'Ansible', 'API', 'Arduino', 'ASP.NET', 'Atom', 'Awesome Lists', 'Amazon Web Services', 'Azure', 'Babel', 'Bash', 'Bitcoin', 'Bootstrap', 'Bot', 'C', 'Chrome', 'Chrome extension', 'Command line interface', 'Clojure', 'Code quality', 'Code review', 'Compiler', 'Continuous integration', 'COVID-19', 'C++']\n"
          ]
        }
      ]
    },
    {
      "cell_type": "code",
      "metadata": {
        "colab": {
          "base_uri": "https://localhost:8080/"
        },
        "id": "LbC-b8L3V66n",
        "outputId": "71a05209-94ea-4ce9-b059-1a04a3ba3f01"
      },
      "source": [
        "topic_descriptions = []\n",
        "for tag in topic_desc_tags:\n",
        "  topic_descriptions.append(tag.text.strip())\n",
        "\n",
        "print(topic_descriptions)"
      ],
      "execution_count": null,
      "outputs": [
        {
          "output_type": "stream",
          "name": "stdout",
          "text": [
            "['3D modeling is the process of virtually developing the surface and structure of a 3D object.', 'Ajax is a technique for creating interactive web applications.', 'Algorithms are self-contained sequences that carry out a variety of tasks.', 'Amp is a non-blocking concurrency framework for PHP.', 'Android is an operating system built by Google designed for mobile devices.', 'Angular is an open source web application platform.', 'Ansible is a simple and powerful automation engine.', 'An API (Application Programming Interface) is a collection of protocols and subroutines for building software.', 'Arduino is an open source hardware and software company and maker community.', 'ASP.NET is a web framework for building modern web apps and services.', 'Atom is a open source text editor built with web technologies.', 'An awesome list is a list of awesome things curated by the community.', 'Amazon Web Services provides on-demand cloud computing platforms on a subscription basis.', 'Azure is a cloud computing service created by Microsoft.', 'Babel is a compiler for writing next generation JavaScript, today.', 'Bash is a shell and command language interpreter for the GNU operating system.', 'Bitcoin is a cryptocurrency developed by Satoshi Nakamoto.', 'Bootstrap is an HTML, CSS, and JavaScript framework.', 'A bot is an application that runs automated tasks over the Internet.', 'C is a general purpose programming language that first appeared in 1972.', 'Chrome is a web browser from the tech company Google.', 'Google Chrome Extensions are add-ons that allow users to customize their Chrome web browser.', 'A CLI, or command-line interface, is a console that helps users issue commands to a program.', 'Clojure is a dynamic, general-purpose programming language.', 'Automate your code review with style, quality, security, and test‑coverage checks when you need them.', 'Ensure your code meets quality standards and ship with confidence.', 'Compilers are software that translate higher-level programming languages to lower-level languages (e.g. machine code).', 'Automatically build and test your code as you push it upstream, preventing bugs from being deployed to production.', 'The coronavirus disease 2019 (COVID-19) is an infectious disease caused by SARS-CoV-2.', 'C++ is a general purpose and object-oriented programming language.']\n"
          ]
        }
      ]
    },
    {
      "cell_type": "code",
      "metadata": {
        "colab": {
          "base_uri": "https://localhost:8080/"
        },
        "id": "zB_P1cwLXCJG",
        "outputId": "a7c3c343-129b-454e-f8fb-f6fb5b5c33a2"
      },
      "source": [
        "topic_urls = []\n",
        "base_url = 'https://github.com'\n",
        "for tag in topic_link_tags:\n",
        "  topic_urls.append(base_url + tag['href'])\n",
        "topic_urls"
      ],
      "execution_count": null,
      "outputs": [
        {
          "output_type": "execute_result",
          "data": {
            "text/plain": [
              "['https://github.com/topics/3d',\n",
              " 'https://github.com/topics/ajax',\n",
              " 'https://github.com/topics/algorithm',\n",
              " 'https://github.com/topics/amphp',\n",
              " 'https://github.com/topics/android',\n",
              " 'https://github.com/topics/angular',\n",
              " 'https://github.com/topics/ansible',\n",
              " 'https://github.com/topics/api',\n",
              " 'https://github.com/topics/arduino',\n",
              " 'https://github.com/topics/aspnet',\n",
              " 'https://github.com/topics/atom',\n",
              " 'https://github.com/topics/awesome',\n",
              " 'https://github.com/topics/aws',\n",
              " 'https://github.com/topics/azure',\n",
              " 'https://github.com/topics/babel',\n",
              " 'https://github.com/topics/bash',\n",
              " 'https://github.com/topics/bitcoin',\n",
              " 'https://github.com/topics/bootstrap',\n",
              " 'https://github.com/topics/bot',\n",
              " 'https://github.com/topics/c',\n",
              " 'https://github.com/topics/chrome',\n",
              " 'https://github.com/topics/chrome-extension',\n",
              " 'https://github.com/topics/cli',\n",
              " 'https://github.com/topics/clojure',\n",
              " 'https://github.com/topics/code-quality',\n",
              " 'https://github.com/topics/code-review',\n",
              " 'https://github.com/topics/compiler',\n",
              " 'https://github.com/topics/continuous-integration',\n",
              " 'https://github.com/topics/covid-19',\n",
              " 'https://github.com/topics/cpp']"
            ]
          },
          "metadata": {},
          "execution_count": 27
        }
      ]
    },
    {
      "cell_type": "code",
      "metadata": {
        "id": "ocBqT-ItXCGS"
      },
      "source": [
        "!pip install pandas --quiet"
      ],
      "execution_count": null,
      "outputs": []
    },
    {
      "cell_type": "code",
      "metadata": {
        "id": "9YV-PsnzXVzE"
      },
      "source": [
        "import pandas as pd"
      ],
      "execution_count": null,
      "outputs": []
    },
    {
      "cell_type": "code",
      "metadata": {
        "id": "ai5LUb1UX3aI"
      },
      "source": [
        "topics_dict = {\n",
        "    'title' : topic_titles,\n",
        "    'description' : topic_descriptions,\n",
        "    'url' : topics_url\n",
        "}"
      ],
      "execution_count": null,
      "outputs": []
    },
    {
      "cell_type": "code",
      "metadata": {
        "colab": {
          "base_uri": "https://localhost:8080/",
          "height": 1000
        },
        "id": "wmdYRHEVXVpA",
        "outputId": "35936a06-722c-4b75-a49c-5d2ef9455640"
      },
      "source": [
        "topic_df = pd.DataFrame(topics_dict)\n",
        "topic_df"
      ],
      "execution_count": null,
      "outputs": [
        {
          "output_type": "execute_result",
          "data": {
            "text/html": [
              "<div>\n",
              "<style scoped>\n",
              "    .dataframe tbody tr th:only-of-type {\n",
              "        vertical-align: middle;\n",
              "    }\n",
              "\n",
              "    .dataframe tbody tr th {\n",
              "        vertical-align: top;\n",
              "    }\n",
              "\n",
              "    .dataframe thead th {\n",
              "        text-align: right;\n",
              "    }\n",
              "</style>\n",
              "<table border=\"1\" class=\"dataframe\">\n",
              "  <thead>\n",
              "    <tr style=\"text-align: right;\">\n",
              "      <th></th>\n",
              "      <th>title</th>\n",
              "      <th>description</th>\n",
              "      <th>url</th>\n",
              "    </tr>\n",
              "  </thead>\n",
              "  <tbody>\n",
              "    <tr>\n",
              "      <th>0</th>\n",
              "      <td>3D</td>\n",
              "      <td>3D modeling is the process of virtually develo...</td>\n",
              "      <td>https://github.com/topics</td>\n",
              "    </tr>\n",
              "    <tr>\n",
              "      <th>1</th>\n",
              "      <td>Ajax</td>\n",
              "      <td>Ajax is a technique for creating interactive w...</td>\n",
              "      <td>https://github.com/topics</td>\n",
              "    </tr>\n",
              "    <tr>\n",
              "      <th>2</th>\n",
              "      <td>Algorithm</td>\n",
              "      <td>Algorithms are self-contained sequences that c...</td>\n",
              "      <td>https://github.com/topics</td>\n",
              "    </tr>\n",
              "    <tr>\n",
              "      <th>3</th>\n",
              "      <td>Amp</td>\n",
              "      <td>Amp is a non-blocking concurrency framework fo...</td>\n",
              "      <td>https://github.com/topics</td>\n",
              "    </tr>\n",
              "    <tr>\n",
              "      <th>4</th>\n",
              "      <td>Android</td>\n",
              "      <td>Android is an operating system built by Google...</td>\n",
              "      <td>https://github.com/topics</td>\n",
              "    </tr>\n",
              "    <tr>\n",
              "      <th>5</th>\n",
              "      <td>Angular</td>\n",
              "      <td>Angular is an open source web application plat...</td>\n",
              "      <td>https://github.com/topics</td>\n",
              "    </tr>\n",
              "    <tr>\n",
              "      <th>6</th>\n",
              "      <td>Ansible</td>\n",
              "      <td>Ansible is a simple and powerful automation en...</td>\n",
              "      <td>https://github.com/topics</td>\n",
              "    </tr>\n",
              "    <tr>\n",
              "      <th>7</th>\n",
              "      <td>API</td>\n",
              "      <td>An API (Application Programming Interface) is ...</td>\n",
              "      <td>https://github.com/topics</td>\n",
              "    </tr>\n",
              "    <tr>\n",
              "      <th>8</th>\n",
              "      <td>Arduino</td>\n",
              "      <td>Arduino is an open source hardware and softwar...</td>\n",
              "      <td>https://github.com/topics</td>\n",
              "    </tr>\n",
              "    <tr>\n",
              "      <th>9</th>\n",
              "      <td>ASP.NET</td>\n",
              "      <td>ASP.NET is a web framework for building modern...</td>\n",
              "      <td>https://github.com/topics</td>\n",
              "    </tr>\n",
              "    <tr>\n",
              "      <th>10</th>\n",
              "      <td>Atom</td>\n",
              "      <td>Atom is a open source text editor built with w...</td>\n",
              "      <td>https://github.com/topics</td>\n",
              "    </tr>\n",
              "    <tr>\n",
              "      <th>11</th>\n",
              "      <td>Awesome Lists</td>\n",
              "      <td>An awesome list is a list of awesome things cu...</td>\n",
              "      <td>https://github.com/topics</td>\n",
              "    </tr>\n",
              "    <tr>\n",
              "      <th>12</th>\n",
              "      <td>Amazon Web Services</td>\n",
              "      <td>Amazon Web Services provides on-demand cloud c...</td>\n",
              "      <td>https://github.com/topics</td>\n",
              "    </tr>\n",
              "    <tr>\n",
              "      <th>13</th>\n",
              "      <td>Azure</td>\n",
              "      <td>Azure is a cloud computing service created by ...</td>\n",
              "      <td>https://github.com/topics</td>\n",
              "    </tr>\n",
              "    <tr>\n",
              "      <th>14</th>\n",
              "      <td>Babel</td>\n",
              "      <td>Babel is a compiler for writing next generatio...</td>\n",
              "      <td>https://github.com/topics</td>\n",
              "    </tr>\n",
              "    <tr>\n",
              "      <th>15</th>\n",
              "      <td>Bash</td>\n",
              "      <td>Bash is a shell and command language interpret...</td>\n",
              "      <td>https://github.com/topics</td>\n",
              "    </tr>\n",
              "    <tr>\n",
              "      <th>16</th>\n",
              "      <td>Bitcoin</td>\n",
              "      <td>Bitcoin is a cryptocurrency developed by Satos...</td>\n",
              "      <td>https://github.com/topics</td>\n",
              "    </tr>\n",
              "    <tr>\n",
              "      <th>17</th>\n",
              "      <td>Bootstrap</td>\n",
              "      <td>Bootstrap is an HTML, CSS, and JavaScript fram...</td>\n",
              "      <td>https://github.com/topics</td>\n",
              "    </tr>\n",
              "    <tr>\n",
              "      <th>18</th>\n",
              "      <td>Bot</td>\n",
              "      <td>A bot is an application that runs automated ta...</td>\n",
              "      <td>https://github.com/topics</td>\n",
              "    </tr>\n",
              "    <tr>\n",
              "      <th>19</th>\n",
              "      <td>C</td>\n",
              "      <td>C is a general purpose programming language th...</td>\n",
              "      <td>https://github.com/topics</td>\n",
              "    </tr>\n",
              "    <tr>\n",
              "      <th>20</th>\n",
              "      <td>Chrome</td>\n",
              "      <td>Chrome is a web browser from the tech company ...</td>\n",
              "      <td>https://github.com/topics</td>\n",
              "    </tr>\n",
              "    <tr>\n",
              "      <th>21</th>\n",
              "      <td>Chrome extension</td>\n",
              "      <td>Google Chrome Extensions are add-ons that allo...</td>\n",
              "      <td>https://github.com/topics</td>\n",
              "    </tr>\n",
              "    <tr>\n",
              "      <th>22</th>\n",
              "      <td>Command line interface</td>\n",
              "      <td>A CLI, or command-line interface, is a console...</td>\n",
              "      <td>https://github.com/topics</td>\n",
              "    </tr>\n",
              "    <tr>\n",
              "      <th>23</th>\n",
              "      <td>Clojure</td>\n",
              "      <td>Clojure is a dynamic, general-purpose programm...</td>\n",
              "      <td>https://github.com/topics</td>\n",
              "    </tr>\n",
              "    <tr>\n",
              "      <th>24</th>\n",
              "      <td>Code quality</td>\n",
              "      <td>Automate your code review with style, quality,...</td>\n",
              "      <td>https://github.com/topics</td>\n",
              "    </tr>\n",
              "    <tr>\n",
              "      <th>25</th>\n",
              "      <td>Code review</td>\n",
              "      <td>Ensure your code meets quality standards and s...</td>\n",
              "      <td>https://github.com/topics</td>\n",
              "    </tr>\n",
              "    <tr>\n",
              "      <th>26</th>\n",
              "      <td>Compiler</td>\n",
              "      <td>Compilers are software that translate higher-l...</td>\n",
              "      <td>https://github.com/topics</td>\n",
              "    </tr>\n",
              "    <tr>\n",
              "      <th>27</th>\n",
              "      <td>Continuous integration</td>\n",
              "      <td>Automatically build and test your code as you ...</td>\n",
              "      <td>https://github.com/topics</td>\n",
              "    </tr>\n",
              "    <tr>\n",
              "      <th>28</th>\n",
              "      <td>COVID-19</td>\n",
              "      <td>The coronavirus disease 2019 (COVID-19) is an ...</td>\n",
              "      <td>https://github.com/topics</td>\n",
              "    </tr>\n",
              "    <tr>\n",
              "      <th>29</th>\n",
              "      <td>C++</td>\n",
              "      <td>C++ is a general purpose and object-oriented p...</td>\n",
              "      <td>https://github.com/topics</td>\n",
              "    </tr>\n",
              "  </tbody>\n",
              "</table>\n",
              "</div>"
            ],
            "text/plain": [
              "                     title  ...                        url\n",
              "0                       3D  ...  https://github.com/topics\n",
              "1                     Ajax  ...  https://github.com/topics\n",
              "2                Algorithm  ...  https://github.com/topics\n",
              "3                      Amp  ...  https://github.com/topics\n",
              "4                  Android  ...  https://github.com/topics\n",
              "5                  Angular  ...  https://github.com/topics\n",
              "6                  Ansible  ...  https://github.com/topics\n",
              "7                      API  ...  https://github.com/topics\n",
              "8                  Arduino  ...  https://github.com/topics\n",
              "9                  ASP.NET  ...  https://github.com/topics\n",
              "10                    Atom  ...  https://github.com/topics\n",
              "11           Awesome Lists  ...  https://github.com/topics\n",
              "12     Amazon Web Services  ...  https://github.com/topics\n",
              "13                   Azure  ...  https://github.com/topics\n",
              "14                   Babel  ...  https://github.com/topics\n",
              "15                    Bash  ...  https://github.com/topics\n",
              "16                 Bitcoin  ...  https://github.com/topics\n",
              "17               Bootstrap  ...  https://github.com/topics\n",
              "18                     Bot  ...  https://github.com/topics\n",
              "19                       C  ...  https://github.com/topics\n",
              "20                  Chrome  ...  https://github.com/topics\n",
              "21        Chrome extension  ...  https://github.com/topics\n",
              "22  Command line interface  ...  https://github.com/topics\n",
              "23                 Clojure  ...  https://github.com/topics\n",
              "24            Code quality  ...  https://github.com/topics\n",
              "25             Code review  ...  https://github.com/topics\n",
              "26                Compiler  ...  https://github.com/topics\n",
              "27  Continuous integration  ...  https://github.com/topics\n",
              "28                COVID-19  ...  https://github.com/topics\n",
              "29                     C++  ...  https://github.com/topics\n",
              "\n",
              "[30 rows x 3 columns]"
            ]
          },
          "metadata": {},
          "execution_count": 31
        }
      ]
    },
    {
      "cell_type": "markdown",
      "metadata": {
        "id": "yiJCU4nGPMLD"
      },
      "source": [
        "##  Create CSV file"
      ]
    },
    {
      "cell_type": "code",
      "metadata": {
        "id": "EMy6oksMPL43"
      },
      "source": [
        "topic_df.to_csv('topics.csv', index=None)"
      ],
      "execution_count": null,
      "outputs": []
    },
    {
      "cell_type": "code",
      "metadata": {
        "id": "xs9laVg0ZJmb"
      },
      "source": [
        ""
      ],
      "execution_count": null,
      "outputs": []
    },
    {
      "cell_type": "markdown",
      "metadata": {
        "id": "IS7_ScLYPQ-f"
      },
      "source": [
        "## getting info out of a topic page"
      ]
    },
    {
      "cell_type": "code",
      "metadata": {
        "colab": {
          "base_uri": "https://localhost:8080/",
          "height": 35
        },
        "id": "v2s2Cd38PTlI",
        "outputId": "31089196-d852-47f3-c296-ee1e5923e3f5"
      },
      "source": [
        "topic_page_url = topic_urls[0]\n",
        "topic_page_url"
      ],
      "execution_count": null,
      "outputs": [
        {
          "output_type": "execute_result",
          "data": {
            "application/vnd.google.colaboratory.intrinsic+json": {
              "type": "string"
            },
            "text/plain": [
              "'https://github.com/topics/3d'"
            ]
          },
          "metadata": {},
          "execution_count": 33
        }
      ]
    },
    {
      "cell_type": "code",
      "metadata": {
        "id": "1WmQGuyhZgXf"
      },
      "source": [
        "response = requests.get(topic_page_url)"
      ],
      "execution_count": null,
      "outputs": []
    },
    {
      "cell_type": "code",
      "metadata": {
        "colab": {
          "base_uri": "https://localhost:8080/"
        },
        "id": "CLLFzeN7ZgVw",
        "outputId": "2739c591-bd3a-43f2-d41b-329fb8c01445"
      },
      "source": [
        "response.status_code"
      ],
      "execution_count": null,
      "outputs": [
        {
          "output_type": "execute_result",
          "data": {
            "text/plain": [
              "200"
            ]
          },
          "metadata": {},
          "execution_count": 35
        }
      ]
    },
    {
      "cell_type": "code",
      "metadata": {
        "colab": {
          "base_uri": "https://localhost:8080/"
        },
        "id": "rTLoh4vSZgSY",
        "outputId": "416cc6c6-0203-4776-8934-e46a5ce9c7a4"
      },
      "source": [
        "len(response.text)"
      ],
      "execution_count": null,
      "outputs": [
        {
          "output_type": "execute_result",
          "data": {
            "text/plain": [
              "636590"
            ]
          },
          "metadata": {},
          "execution_count": 36
        }
      ]
    },
    {
      "cell_type": "code",
      "metadata": {
        "id": "Yn9n4-6wZgPQ"
      },
      "source": [
        "topic_doc = BeautifulSoup(response.text, 'html.parser')"
      ],
      "execution_count": null,
      "outputs": []
    },
    {
      "cell_type": "code",
      "metadata": {
        "id": "5nzFXgitZgAs"
      },
      "source": [
        "h1_selection_class = 'f3 color-fg-muted text-normal lh-condensed'\n",
        "repo_tags = topic_doc.find_all('h3', {'class':h1_selection_class})"
      ],
      "execution_count": null,
      "outputs": []
    },
    {
      "cell_type": "code",
      "metadata": {
        "colab": {
          "base_uri": "https://localhost:8080/"
        },
        "id": "u9vPbAgdadD8",
        "outputId": "59e05c89-772f-410b-b28e-8d8dfc907608"
      },
      "source": [
        "len(repo_tags)"
      ],
      "execution_count": null,
      "outputs": [
        {
          "output_type": "execute_result",
          "data": {
            "text/plain": [
              "30"
            ]
          },
          "metadata": {},
          "execution_count": 39
        }
      ]
    },
    {
      "cell_type": "code",
      "metadata": {
        "id": "dzniEVzoadIz"
      },
      "source": [
        "a_tags = repo_tags[0].find_all('a')"
      ],
      "execution_count": null,
      "outputs": []
    },
    {
      "cell_type": "code",
      "metadata": {
        "colab": {
          "base_uri": "https://localhost:8080/",
          "height": 35
        },
        "id": "PAg8BEjmaq4h",
        "outputId": "c275b454-305b-493a-98a6-03325af294be"
      },
      "source": [
        "a_tags[0].text.strip()"
      ],
      "execution_count": null,
      "outputs": [
        {
          "output_type": "execute_result",
          "data": {
            "application/vnd.google.colaboratory.intrinsic+json": {
              "type": "string"
            },
            "text/plain": [
              "'mrdoob'"
            ]
          },
          "metadata": {},
          "execution_count": 41
        }
      ]
    },
    {
      "cell_type": "code",
      "metadata": {
        "colab": {
          "base_uri": "https://localhost:8080/",
          "height": 35
        },
        "id": "M8dbasT-aqzO",
        "outputId": "9b89e1ef-6906-43f3-ef8c-a2d6120c44af"
      },
      "source": [
        "a_tags[1].text.strip()"
      ],
      "execution_count": null,
      "outputs": [
        {
          "output_type": "execute_result",
          "data": {
            "application/vnd.google.colaboratory.intrinsic+json": {
              "type": "string"
            },
            "text/plain": [
              "'three.js'"
            ]
          },
          "metadata": {},
          "execution_count": 42
        }
      ]
    },
    {
      "cell_type": "code",
      "metadata": {
        "colab": {
          "base_uri": "https://localhost:8080/",
          "height": 35
        },
        "id": "3IALhLN_aqpq",
        "outputId": "a0a0499a-f8bd-4bde-ddb9-8930497cc96e"
      },
      "source": [
        "a_tags[1]['href']"
      ],
      "execution_count": null,
      "outputs": [
        {
          "output_type": "execute_result",
          "data": {
            "application/vnd.google.colaboratory.intrinsic+json": {
              "type": "string"
            },
            "text/plain": [
              "'/mrdoob/three.js'"
            ]
          },
          "metadata": {},
          "execution_count": 43
        }
      ]
    },
    {
      "cell_type": "code",
      "metadata": {
        "colab": {
          "base_uri": "https://localhost:8080/"
        },
        "id": "b_YJvawhbFNk",
        "outputId": "6fa9578d-0312-4545-df1d-1f2c71d165fe"
      },
      "source": [
        "repo_url = base_url + a_tags[1]['href']\n",
        "print(repo_url)"
      ],
      "execution_count": null,
      "outputs": [
        {
          "output_type": "stream",
          "name": "stdout",
          "text": [
            "https://github.com/mrdoob/three.js\n"
          ]
        }
      ]
    },
    {
      "cell_type": "code",
      "metadata": {
        "id": "9KhGl_vZbFLe"
      },
      "source": [
        "star_tags = topic_doc.find_all('a', {'class':'social-count float-none'})"
      ],
      "execution_count": null,
      "outputs": []
    },
    {
      "cell_type": "code",
      "metadata": {
        "colab": {
          "base_uri": "https://localhost:8080/"
        },
        "id": "FsPeutNSbFJH",
        "outputId": "a511e011-0829-4e03-8375-f7662b8d3487"
      },
      "source": [
        "len(star_tags)"
      ],
      "execution_count": null,
      "outputs": [
        {
          "output_type": "execute_result",
          "data": {
            "text/plain": [
              "30"
            ]
          },
          "metadata": {},
          "execution_count": 46
        }
      ]
    },
    {
      "cell_type": "code",
      "metadata": {
        "colab": {
          "base_uri": "https://localhost:8080/",
          "height": 35
        },
        "id": "_YAySJAEbFGT",
        "outputId": "4abafacc-1a01-4571-d160-20c0be2b0199"
      },
      "source": [
        "star_tags[0].text.strip()"
      ],
      "execution_count": null,
      "outputs": [
        {
          "output_type": "execute_result",
          "data": {
            "application/vnd.google.colaboratory.intrinsic+json": {
              "type": "string"
            },
            "text/plain": [
              "'75.5k'"
            ]
          },
          "metadata": {},
          "execution_count": 47
        }
      ]
    },
    {
      "cell_type": "code",
      "metadata": {
        "id": "L1zrxRbtb1Ub"
      },
      "source": [
        "def parse_star_count(star_str):\n",
        "  star_str = star_str.strip()\n",
        "  if star_str[-1] == 'k':\n",
        "    return int(float(star_str[:-1]) * 1000)\n",
        "  else:\n",
        "    return int(start_str)"
      ],
      "execution_count": null,
      "outputs": []
    },
    {
      "cell_type": "code",
      "metadata": {
        "colab": {
          "base_uri": "https://localhost:8080/"
        },
        "id": "zGIJzxhSb1ST",
        "outputId": "f4a9bc34-a22f-4f71-b187-6110815c6a59"
      },
      "source": [
        "parse_star_count(star_tags[0].text.strip())"
      ],
      "execution_count": null,
      "outputs": [
        {
          "output_type": "execute_result",
          "data": {
            "text/plain": [
              "75500"
            ]
          },
          "metadata": {},
          "execution_count": 49
        }
      ]
    },
    {
      "cell_type": "code",
      "metadata": {
        "id": "6zsNjGEkb1Ny"
      },
      "source": [
        ""
      ],
      "execution_count": null,
      "outputs": []
    },
    {
      "cell_type": "code",
      "metadata": {
        "colab": {
          "base_uri": "https://localhost:8080/"
        },
        "id": "h8ASiUVHfdhe",
        "outputId": "4561a693-1d23-4e56-fb57-c98dda6799cc"
      },
      "source": [
        "get_repo_info(repo_tags[0], star_tags[0])"
      ],
      "execution_count": null,
      "outputs": [
        {
          "output_type": "execute_result",
          "data": {
            "text/plain": [
              "('mrdoob', 'three.js', 75500, 'https://github.com/mrdoob/three.js')"
            ]
          },
          "metadata": {},
          "execution_count": 51
        }
      ]
    },
    {
      "cell_type": "code",
      "metadata": {
        "id": "fVu9TvG9fdee"
      },
      "source": [
        "topic_repos_dict = {\n",
        "    'username' : [],\n",
        "    'repo_name' : [],\n",
        "    'stars' : [],\n",
        "    'repo_url' : []\n",
        "}\n",
        "\n",
        "for i in range(len(repo_tags)):\n",
        "  repo_info = get_repo_info(repo_tags[i], star_tags[0])\n",
        "  topic_repos_dict['username'].append(repo_info[0])\n",
        "  topic_repos_dict['repo_name'].append(repo_info[1])\n",
        "  topic_repos_dict['stars'].append(repo_info[2])\n",
        "  topic_repos_dict['repo_url'].append(repo_info[3])\n"
      ],
      "execution_count": null,
      "outputs": []
    },
    {
      "cell_type": "code",
      "metadata": {
        "id": "8skfq-DP39N_"
      },
      "source": [
        "import os\n",
        "def get_topic_page(topic_urls):\n",
        "  # Download the page\n",
        "  response = requests.get(topic_urls)\n",
        "  # Check successful response\n",
        "  if response.status_code != 200:\n",
        "    raise Exception('Failed to load page {}'.format(topic_urls))\n",
        "    # Parse using bs4\n",
        "  topic_doc = BeautifulSoup(response.text, 'html.parser')\n",
        "  return topic_doc\n",
        "\n",
        "def get_repo_info(h1_tag, star_tag):\n",
        "    # returns all the required info about a repository\n",
        "    a_tags = h1_tag.find_all('a')\n",
        "    username = a_tags[0].text.strip()\n",
        "    repo_name = a_tags[1].text.strip()\n",
        "    repo_url =  base_url + a_tags[1]['href']\n",
        "    stars = parse_star_count(star_tag.text.strip())\n",
        "    return username, repo_name, stars, repo_url\n",
        "\n",
        "def get_topic_repos(topic_urls):\n",
        "  # get h1 tags containing repo title, url, and username\n",
        "  h1_selection_class = 'f3 color-fg-muted text-normal lh-condensed'\n",
        "  repo_tags = topic_doc.find_all('h3', {'class':h1_selection_class})\n",
        "  # get star tags\n",
        "  star_tags = topic_doc.find_all('a', {'class':'social-count float-none'})\n",
        "\n",
        "  topic_repos_dict = {\n",
        "    'username' : [],\n",
        "    'repo_name' : [],\n",
        "    'stars' : [],\n",
        "    'repo_url' : []\n",
        "    }\n",
        "  # get repo info\n",
        "  for i in range(len(repo_tags)):\n",
        "    repo_info = get_repo_info(repo_tags[i], star_tags[0])\n",
        "    topic_repos_dict['username'].append(repo_info[0])\n",
        "    topic_repos_dict['repo_name'].append(repo_info[1])\n",
        "    topic_repos_dict['stars'].append(repo_info[2])\n",
        "    topic_repos_dict['repo_url'].append(repo_info[3])\n",
        "  return pd.DataFrame(topic_repos_dict)\n",
        "\n",
        "def scrape_topic(topic_urls, topic_name):\n",
        "  topic_df = get_topic_repos(get_topic_page(topic_urls))\n",
        "  topic_df.save(topic_name + '.csv', index=None)"
      ],
      "execution_count": null,
      "outputs": []
    },
    {
      "cell_type": "code",
      "metadata": {
        "id": "ZWb45w-onb_g"
      },
      "source": [
        "def get_topic_titles(doc):\n",
        "    selection_class = 'f3 lh-condensed mb-0 mt-1 Link--primary'\n",
        "    topic_title_tags = doc.find_all('p', {'class': selection_class})\n",
        "    topic_titles = []\n",
        "    for tag in topic_title_tags:\n",
        "        topic_titles.append(tag.text)\n",
        "    return topic_titles\n",
        "\n",
        "def get_topic_descs(doc):\n",
        "    desc_selector = 'f5 color-text-secondary mb-0 mt-1'\n",
        "    topic_desc_tags = doc.find_all('p', {'class': desc_selector})\n",
        "    topic_descs = []\n",
        "    for tag in topic_desc_tags:\n",
        "        topic_descs.append(tag.text.strip())\n",
        "    return topic_descs\n",
        "\n",
        "def get_topic_urls(doc):\n",
        "    topic_link_tags = doc.find_all('a', {'class': 'd-flex no-underline'})\n",
        "    topic_urls = []\n",
        "    base_url = 'https://github.com'\n",
        "    for tag in topic_link_tags:\n",
        "        topic_urls.append(base_url + tag['href'])\n",
        "    return topic_urls\n",
        "    \n",
        "\n",
        "def scrape_topics():\n",
        "    topics_url = 'https://github.com/topics'\n",
        "    response = requests.get(topics_url)\n",
        "    if response.status_code != 200:\n",
        "        raise Exception('Failed to load page {}'.format(topic_url))\n",
        "    topics_dict = {\n",
        "        'title': get_topic_titles(doc),\n",
        "        'description': get_topic_descs(doc),\n",
        "        'url': get_topic_urls(doc)\n",
        "    }\n",
        "    return pd.DataFrame(topics_dict)"
      ],
      "execution_count": null,
      "outputs": []
    },
    {
      "cell_type": "code",
      "metadata": {
        "colab": {
          "base_uri": "https://localhost:8080/"
        },
        "id": "7EVkUh8Xuxad",
        "outputId": "c8260f61-7bda-4def-a7a0-a2d8cea02006"
      },
      "source": [
        "scrape_topics"
      ],
      "execution_count": null,
      "outputs": [
        {
          "output_type": "execute_result",
          "data": {
            "text/plain": [
              "<function __main__.scrape_topics>"
            ]
          },
          "metadata": {},
          "execution_count": 87
        }
      ]
    },
    {
      "cell_type": "code",
      "metadata": {
        "id": "9KoalWkenb3S"
      },
      "source": [
        "def scrape_topics_repos():\n",
        "    print('Scraping list of topics')\n",
        "    topics_df = scrape_topics()\n",
        "    \n",
        "    os.makedirs('data', exist_ok=True)\n",
        "    for index, row in topics_df.iterrows():\n",
        "        print('Scraping top repositories for \"{}\"'.format(row['title']))\n",
        "        scrape_topic(row['url'], 'data/{}.csv'.format(row['title']))"
      ],
      "execution_count": null,
      "outputs": []
    },
    {
      "cell_type": "code",
      "metadata": {
        "colab": {
          "base_uri": "https://localhost:8080/",
          "height": 1000
        },
        "id": "Bxzb8rcukU5i",
        "outputId": "fd70f526-3061-4efd-8af6-bbb931b2ade0"
      },
      "source": [
        "get_topic_repos(get_topic_page(topic_urls[6]))"
      ],
      "execution_count": null,
      "outputs": [
        {
          "output_type": "execute_result",
          "data": {
            "text/html": [
              "<div>\n",
              "<style scoped>\n",
              "    .dataframe tbody tr th:only-of-type {\n",
              "        vertical-align: middle;\n",
              "    }\n",
              "\n",
              "    .dataframe tbody tr th {\n",
              "        vertical-align: top;\n",
              "    }\n",
              "\n",
              "    .dataframe thead th {\n",
              "        text-align: right;\n",
              "    }\n",
              "</style>\n",
              "<table border=\"1\" class=\"dataframe\">\n",
              "  <thead>\n",
              "    <tr style=\"text-align: right;\">\n",
              "      <th></th>\n",
              "      <th>username</th>\n",
              "      <th>repo_name</th>\n",
              "      <th>stars</th>\n",
              "      <th>repo_url</th>\n",
              "    </tr>\n",
              "  </thead>\n",
              "  <tbody>\n",
              "    <tr>\n",
              "      <th>0</th>\n",
              "      <td>mrdoob</td>\n",
              "      <td>three.js</td>\n",
              "      <td>75500</td>\n",
              "      <td>https://github.com/mrdoob/three.js</td>\n",
              "    </tr>\n",
              "    <tr>\n",
              "      <th>1</th>\n",
              "      <td>libgdx</td>\n",
              "      <td>libgdx</td>\n",
              "      <td>75500</td>\n",
              "      <td>https://github.com/libgdx/libgdx</td>\n",
              "    </tr>\n",
              "    <tr>\n",
              "      <th>2</th>\n",
              "      <td>pmndrs</td>\n",
              "      <td>react-three-fiber</td>\n",
              "      <td>75500</td>\n",
              "      <td>https://github.com/pmndrs/react-three-fiber</td>\n",
              "    </tr>\n",
              "    <tr>\n",
              "      <th>3</th>\n",
              "      <td>BabylonJS</td>\n",
              "      <td>Babylon.js</td>\n",
              "      <td>75500</td>\n",
              "      <td>https://github.com/BabylonJS/Babylon.js</td>\n",
              "    </tr>\n",
              "    <tr>\n",
              "      <th>4</th>\n",
              "      <td>aframevr</td>\n",
              "      <td>aframe</td>\n",
              "      <td>75500</td>\n",
              "      <td>https://github.com/aframevr/aframe</td>\n",
              "    </tr>\n",
              "    <tr>\n",
              "      <th>5</th>\n",
              "      <td>ssloy</td>\n",
              "      <td>tinyrenderer</td>\n",
              "      <td>75500</td>\n",
              "      <td>https://github.com/ssloy/tinyrenderer</td>\n",
              "    </tr>\n",
              "    <tr>\n",
              "      <th>6</th>\n",
              "      <td>lettier</td>\n",
              "      <td>3d-game-shaders-for-beginners</td>\n",
              "      <td>75500</td>\n",
              "      <td>https://github.com/lettier/3d-game-shaders-for...</td>\n",
              "    </tr>\n",
              "    <tr>\n",
              "      <th>7</th>\n",
              "      <td>FreeCAD</td>\n",
              "      <td>FreeCAD</td>\n",
              "      <td>75500</td>\n",
              "      <td>https://github.com/FreeCAD/FreeCAD</td>\n",
              "    </tr>\n",
              "    <tr>\n",
              "      <th>8</th>\n",
              "      <td>metafizzy</td>\n",
              "      <td>zdog</td>\n",
              "      <td>75500</td>\n",
              "      <td>https://github.com/metafizzy/zdog</td>\n",
              "    </tr>\n",
              "    <tr>\n",
              "      <th>9</th>\n",
              "      <td>CesiumGS</td>\n",
              "      <td>cesium</td>\n",
              "      <td>75500</td>\n",
              "      <td>https://github.com/CesiumGS/cesium</td>\n",
              "    </tr>\n",
              "    <tr>\n",
              "      <th>10</th>\n",
              "      <td>timzhang642</td>\n",
              "      <td>3D-Machine-Learning</td>\n",
              "      <td>75500</td>\n",
              "      <td>https://github.com/timzhang642/3D-Machine-Lear...</td>\n",
              "    </tr>\n",
              "    <tr>\n",
              "      <th>11</th>\n",
              "      <td>a1studmuffin</td>\n",
              "      <td>SpaceshipGenerator</td>\n",
              "      <td>75500</td>\n",
              "      <td>https://github.com/a1studmuffin/SpaceshipGener...</td>\n",
              "    </tr>\n",
              "    <tr>\n",
              "      <th>12</th>\n",
              "      <td>isl-org</td>\n",
              "      <td>Open3D</td>\n",
              "      <td>75500</td>\n",
              "      <td>https://github.com/isl-org/Open3D</td>\n",
              "    </tr>\n",
              "    <tr>\n",
              "      <th>13</th>\n",
              "      <td>spritejs</td>\n",
              "      <td>spritejs</td>\n",
              "      <td>75500</td>\n",
              "      <td>https://github.com/spritejs/spritejs</td>\n",
              "    </tr>\n",
              "    <tr>\n",
              "      <th>14</th>\n",
              "      <td>domlysz</td>\n",
              "      <td>BlenderGIS</td>\n",
              "      <td>75500</td>\n",
              "      <td>https://github.com/domlysz/BlenderGIS</td>\n",
              "    </tr>\n",
              "    <tr>\n",
              "      <th>15</th>\n",
              "      <td>tensorspace-team</td>\n",
              "      <td>tensorspace</td>\n",
              "      <td>75500</td>\n",
              "      <td>https://github.com/tensorspace-team/tensorspace</td>\n",
              "    </tr>\n",
              "    <tr>\n",
              "      <th>16</th>\n",
              "      <td>jagenjo</td>\n",
              "      <td>webglstudio.js</td>\n",
              "      <td>75500</td>\n",
              "      <td>https://github.com/jagenjo/webglstudio.js</td>\n",
              "    </tr>\n",
              "    <tr>\n",
              "      <th>17</th>\n",
              "      <td>YadiraF</td>\n",
              "      <td>PRNet</td>\n",
              "      <td>75500</td>\n",
              "      <td>https://github.com/YadiraF/PRNet</td>\n",
              "    </tr>\n",
              "    <tr>\n",
              "      <th>18</th>\n",
              "      <td>AaronJackson</td>\n",
              "      <td>vrn</td>\n",
              "      <td>75500</td>\n",
              "      <td>https://github.com/AaronJackson/vrn</td>\n",
              "    </tr>\n",
              "    <tr>\n",
              "      <th>19</th>\n",
              "      <td>openscad</td>\n",
              "      <td>openscad</td>\n",
              "      <td>75500</td>\n",
              "      <td>https://github.com/openscad/openscad</td>\n",
              "    </tr>\n",
              "    <tr>\n",
              "      <th>20</th>\n",
              "      <td>ssloy</td>\n",
              "      <td>tinyraytracer</td>\n",
              "      <td>75500</td>\n",
              "      <td>https://github.com/ssloy/tinyraytracer</td>\n",
              "    </tr>\n",
              "    <tr>\n",
              "      <th>21</th>\n",
              "      <td>blender</td>\n",
              "      <td>blender</td>\n",
              "      <td>75500</td>\n",
              "      <td>https://github.com/blender/blender</td>\n",
              "    </tr>\n",
              "    <tr>\n",
              "      <th>22</th>\n",
              "      <td>mosra</td>\n",
              "      <td>magnum</td>\n",
              "      <td>75500</td>\n",
              "      <td>https://github.com/mosra/magnum</td>\n",
              "    </tr>\n",
              "    <tr>\n",
              "      <th>23</th>\n",
              "      <td>google</td>\n",
              "      <td>model-viewer</td>\n",
              "      <td>75500</td>\n",
              "      <td>https://github.com/google/model-viewer</td>\n",
              "    </tr>\n",
              "    <tr>\n",
              "      <th>24</th>\n",
              "      <td>gfxfundamentals</td>\n",
              "      <td>webgl-fundamentals</td>\n",
              "      <td>75500</td>\n",
              "      <td>https://github.com/gfxfundamentals/webgl-funda...</td>\n",
              "    </tr>\n",
              "    <tr>\n",
              "      <th>25</th>\n",
              "      <td>cleardusk</td>\n",
              "      <td>3DDFA</td>\n",
              "      <td>75500</td>\n",
              "      <td>https://github.com/cleardusk/3DDFA</td>\n",
              "    </tr>\n",
              "    <tr>\n",
              "      <th>26</th>\n",
              "      <td>jasonlong</td>\n",
              "      <td>isometric-contributions</td>\n",
              "      <td>75500</td>\n",
              "      <td>https://github.com/jasonlong/isometric-contrib...</td>\n",
              "    </tr>\n",
              "    <tr>\n",
              "      <th>27</th>\n",
              "      <td>rg3dengine</td>\n",
              "      <td>rg3d</td>\n",
              "      <td>75500</td>\n",
              "      <td>https://github.com/rg3dengine/rg3d</td>\n",
              "    </tr>\n",
              "    <tr>\n",
              "      <th>28</th>\n",
              "      <td>cnr-isti-vclab</td>\n",
              "      <td>meshlab</td>\n",
              "      <td>75500</td>\n",
              "      <td>https://github.com/cnr-isti-vclab/meshlab</td>\n",
              "    </tr>\n",
              "    <tr>\n",
              "      <th>29</th>\n",
              "      <td>antvis</td>\n",
              "      <td>L7</td>\n",
              "      <td>75500</td>\n",
              "      <td>https://github.com/antvis/L7</td>\n",
              "    </tr>\n",
              "  </tbody>\n",
              "</table>\n",
              "</div>"
            ],
            "text/plain": [
              "            username  ...                                           repo_url\n",
              "0             mrdoob  ...                 https://github.com/mrdoob/three.js\n",
              "1             libgdx  ...                   https://github.com/libgdx/libgdx\n",
              "2             pmndrs  ...        https://github.com/pmndrs/react-three-fiber\n",
              "3          BabylonJS  ...            https://github.com/BabylonJS/Babylon.js\n",
              "4           aframevr  ...                 https://github.com/aframevr/aframe\n",
              "5              ssloy  ...              https://github.com/ssloy/tinyrenderer\n",
              "6            lettier  ...  https://github.com/lettier/3d-game-shaders-for...\n",
              "7            FreeCAD  ...                 https://github.com/FreeCAD/FreeCAD\n",
              "8          metafizzy  ...                  https://github.com/metafizzy/zdog\n",
              "9           CesiumGS  ...                 https://github.com/CesiumGS/cesium\n",
              "10       timzhang642  ...  https://github.com/timzhang642/3D-Machine-Lear...\n",
              "11      a1studmuffin  ...  https://github.com/a1studmuffin/SpaceshipGener...\n",
              "12           isl-org  ...                  https://github.com/isl-org/Open3D\n",
              "13          spritejs  ...               https://github.com/spritejs/spritejs\n",
              "14           domlysz  ...              https://github.com/domlysz/BlenderGIS\n",
              "15  tensorspace-team  ...    https://github.com/tensorspace-team/tensorspace\n",
              "16           jagenjo  ...          https://github.com/jagenjo/webglstudio.js\n",
              "17           YadiraF  ...                   https://github.com/YadiraF/PRNet\n",
              "18      AaronJackson  ...                https://github.com/AaronJackson/vrn\n",
              "19          openscad  ...               https://github.com/openscad/openscad\n",
              "20             ssloy  ...             https://github.com/ssloy/tinyraytracer\n",
              "21           blender  ...                 https://github.com/blender/blender\n",
              "22             mosra  ...                    https://github.com/mosra/magnum\n",
              "23            google  ...             https://github.com/google/model-viewer\n",
              "24   gfxfundamentals  ...  https://github.com/gfxfundamentals/webgl-funda...\n",
              "25         cleardusk  ...                 https://github.com/cleardusk/3DDFA\n",
              "26         jasonlong  ...  https://github.com/jasonlong/isometric-contrib...\n",
              "27        rg3dengine  ...                 https://github.com/rg3dengine/rg3d\n",
              "28    cnr-isti-vclab  ...          https://github.com/cnr-isti-vclab/meshlab\n",
              "29            antvis  ...                       https://github.com/antvis/L7\n",
              "\n",
              "[30 rows x 4 columns]"
            ]
          },
          "metadata": {},
          "execution_count": 80
        }
      ]
    },
    {
      "cell_type": "code",
      "metadata": {
        "id": "qlcpPhPOfdaZ"
      },
      "source": [
        "topic_repos_df = pd.DataFrame(topic_repos_dict)"
      ],
      "execution_count": null,
      "outputs": []
    },
    {
      "cell_type": "code",
      "metadata": {
        "colab": {
          "base_uri": "https://localhost:8080/",
          "height": 1000
        },
        "id": "m2aQHQ4TfdXw",
        "outputId": "b4688c35-2191-4472-d831-2de455bee08e"
      },
      "source": [
        "topic_repos_df"
      ],
      "execution_count": null,
      "outputs": [
        {
          "output_type": "execute_result",
          "data": {
            "text/html": [
              "<div>\n",
              "<style scoped>\n",
              "    .dataframe tbody tr th:only-of-type {\n",
              "        vertical-align: middle;\n",
              "    }\n",
              "\n",
              "    .dataframe tbody tr th {\n",
              "        vertical-align: top;\n",
              "    }\n",
              "\n",
              "    .dataframe thead th {\n",
              "        text-align: right;\n",
              "    }\n",
              "</style>\n",
              "<table border=\"1\" class=\"dataframe\">\n",
              "  <thead>\n",
              "    <tr style=\"text-align: right;\">\n",
              "      <th></th>\n",
              "      <th>username</th>\n",
              "      <th>repo_name</th>\n",
              "      <th>stars</th>\n",
              "      <th>repo_url</th>\n",
              "    </tr>\n",
              "  </thead>\n",
              "  <tbody>\n",
              "    <tr>\n",
              "      <th>0</th>\n",
              "      <td>mrdoob</td>\n",
              "      <td>three.js</td>\n",
              "      <td>75500</td>\n",
              "      <td>https://github.com/mrdoob/three.js</td>\n",
              "    </tr>\n",
              "    <tr>\n",
              "      <th>1</th>\n",
              "      <td>libgdx</td>\n",
              "      <td>libgdx</td>\n",
              "      <td>75500</td>\n",
              "      <td>https://github.com/libgdx/libgdx</td>\n",
              "    </tr>\n",
              "    <tr>\n",
              "      <th>2</th>\n",
              "      <td>pmndrs</td>\n",
              "      <td>react-three-fiber</td>\n",
              "      <td>75500</td>\n",
              "      <td>https://github.com/pmndrs/react-three-fiber</td>\n",
              "    </tr>\n",
              "    <tr>\n",
              "      <th>3</th>\n",
              "      <td>BabylonJS</td>\n",
              "      <td>Babylon.js</td>\n",
              "      <td>75500</td>\n",
              "      <td>https://github.com/BabylonJS/Babylon.js</td>\n",
              "    </tr>\n",
              "    <tr>\n",
              "      <th>4</th>\n",
              "      <td>aframevr</td>\n",
              "      <td>aframe</td>\n",
              "      <td>75500</td>\n",
              "      <td>https://github.com/aframevr/aframe</td>\n",
              "    </tr>\n",
              "    <tr>\n",
              "      <th>5</th>\n",
              "      <td>ssloy</td>\n",
              "      <td>tinyrenderer</td>\n",
              "      <td>75500</td>\n",
              "      <td>https://github.com/ssloy/tinyrenderer</td>\n",
              "    </tr>\n",
              "    <tr>\n",
              "      <th>6</th>\n",
              "      <td>lettier</td>\n",
              "      <td>3d-game-shaders-for-beginners</td>\n",
              "      <td>75500</td>\n",
              "      <td>https://github.com/lettier/3d-game-shaders-for...</td>\n",
              "    </tr>\n",
              "    <tr>\n",
              "      <th>7</th>\n",
              "      <td>FreeCAD</td>\n",
              "      <td>FreeCAD</td>\n",
              "      <td>75500</td>\n",
              "      <td>https://github.com/FreeCAD/FreeCAD</td>\n",
              "    </tr>\n",
              "    <tr>\n",
              "      <th>8</th>\n",
              "      <td>metafizzy</td>\n",
              "      <td>zdog</td>\n",
              "      <td>75500</td>\n",
              "      <td>https://github.com/metafizzy/zdog</td>\n",
              "    </tr>\n",
              "    <tr>\n",
              "      <th>9</th>\n",
              "      <td>CesiumGS</td>\n",
              "      <td>cesium</td>\n",
              "      <td>75500</td>\n",
              "      <td>https://github.com/CesiumGS/cesium</td>\n",
              "    </tr>\n",
              "    <tr>\n",
              "      <th>10</th>\n",
              "      <td>timzhang642</td>\n",
              "      <td>3D-Machine-Learning</td>\n",
              "      <td>75500</td>\n",
              "      <td>https://github.com/timzhang642/3D-Machine-Lear...</td>\n",
              "    </tr>\n",
              "    <tr>\n",
              "      <th>11</th>\n",
              "      <td>a1studmuffin</td>\n",
              "      <td>SpaceshipGenerator</td>\n",
              "      <td>75500</td>\n",
              "      <td>https://github.com/a1studmuffin/SpaceshipGener...</td>\n",
              "    </tr>\n",
              "    <tr>\n",
              "      <th>12</th>\n",
              "      <td>isl-org</td>\n",
              "      <td>Open3D</td>\n",
              "      <td>75500</td>\n",
              "      <td>https://github.com/isl-org/Open3D</td>\n",
              "    </tr>\n",
              "    <tr>\n",
              "      <th>13</th>\n",
              "      <td>spritejs</td>\n",
              "      <td>spritejs</td>\n",
              "      <td>75500</td>\n",
              "      <td>https://github.com/spritejs/spritejs</td>\n",
              "    </tr>\n",
              "    <tr>\n",
              "      <th>14</th>\n",
              "      <td>domlysz</td>\n",
              "      <td>BlenderGIS</td>\n",
              "      <td>75500</td>\n",
              "      <td>https://github.com/domlysz/BlenderGIS</td>\n",
              "    </tr>\n",
              "    <tr>\n",
              "      <th>15</th>\n",
              "      <td>tensorspace-team</td>\n",
              "      <td>tensorspace</td>\n",
              "      <td>75500</td>\n",
              "      <td>https://github.com/tensorspace-team/tensorspace</td>\n",
              "    </tr>\n",
              "    <tr>\n",
              "      <th>16</th>\n",
              "      <td>jagenjo</td>\n",
              "      <td>webglstudio.js</td>\n",
              "      <td>75500</td>\n",
              "      <td>https://github.com/jagenjo/webglstudio.js</td>\n",
              "    </tr>\n",
              "    <tr>\n",
              "      <th>17</th>\n",
              "      <td>YadiraF</td>\n",
              "      <td>PRNet</td>\n",
              "      <td>75500</td>\n",
              "      <td>https://github.com/YadiraF/PRNet</td>\n",
              "    </tr>\n",
              "    <tr>\n",
              "      <th>18</th>\n",
              "      <td>AaronJackson</td>\n",
              "      <td>vrn</td>\n",
              "      <td>75500</td>\n",
              "      <td>https://github.com/AaronJackson/vrn</td>\n",
              "    </tr>\n",
              "    <tr>\n",
              "      <th>19</th>\n",
              "      <td>openscad</td>\n",
              "      <td>openscad</td>\n",
              "      <td>75500</td>\n",
              "      <td>https://github.com/openscad/openscad</td>\n",
              "    </tr>\n",
              "    <tr>\n",
              "      <th>20</th>\n",
              "      <td>ssloy</td>\n",
              "      <td>tinyraytracer</td>\n",
              "      <td>75500</td>\n",
              "      <td>https://github.com/ssloy/tinyraytracer</td>\n",
              "    </tr>\n",
              "    <tr>\n",
              "      <th>21</th>\n",
              "      <td>blender</td>\n",
              "      <td>blender</td>\n",
              "      <td>75500</td>\n",
              "      <td>https://github.com/blender/blender</td>\n",
              "    </tr>\n",
              "    <tr>\n",
              "      <th>22</th>\n",
              "      <td>mosra</td>\n",
              "      <td>magnum</td>\n",
              "      <td>75500</td>\n",
              "      <td>https://github.com/mosra/magnum</td>\n",
              "    </tr>\n",
              "    <tr>\n",
              "      <th>23</th>\n",
              "      <td>google</td>\n",
              "      <td>model-viewer</td>\n",
              "      <td>75500</td>\n",
              "      <td>https://github.com/google/model-viewer</td>\n",
              "    </tr>\n",
              "    <tr>\n",
              "      <th>24</th>\n",
              "      <td>gfxfundamentals</td>\n",
              "      <td>webgl-fundamentals</td>\n",
              "      <td>75500</td>\n",
              "      <td>https://github.com/gfxfundamentals/webgl-funda...</td>\n",
              "    </tr>\n",
              "    <tr>\n",
              "      <th>25</th>\n",
              "      <td>cleardusk</td>\n",
              "      <td>3DDFA</td>\n",
              "      <td>75500</td>\n",
              "      <td>https://github.com/cleardusk/3DDFA</td>\n",
              "    </tr>\n",
              "    <tr>\n",
              "      <th>26</th>\n",
              "      <td>jasonlong</td>\n",
              "      <td>isometric-contributions</td>\n",
              "      <td>75500</td>\n",
              "      <td>https://github.com/jasonlong/isometric-contrib...</td>\n",
              "    </tr>\n",
              "    <tr>\n",
              "      <th>27</th>\n",
              "      <td>rg3dengine</td>\n",
              "      <td>rg3d</td>\n",
              "      <td>75500</td>\n",
              "      <td>https://github.com/rg3dengine/rg3d</td>\n",
              "    </tr>\n",
              "    <tr>\n",
              "      <th>28</th>\n",
              "      <td>cnr-isti-vclab</td>\n",
              "      <td>meshlab</td>\n",
              "      <td>75500</td>\n",
              "      <td>https://github.com/cnr-isti-vclab/meshlab</td>\n",
              "    </tr>\n",
              "    <tr>\n",
              "      <th>29</th>\n",
              "      <td>antvis</td>\n",
              "      <td>L7</td>\n",
              "      <td>75500</td>\n",
              "      <td>https://github.com/antvis/L7</td>\n",
              "    </tr>\n",
              "  </tbody>\n",
              "</table>\n",
              "</div>"
            ],
            "text/plain": [
              "            username  ...                                           repo_url\n",
              "0             mrdoob  ...                 https://github.com/mrdoob/three.js\n",
              "1             libgdx  ...                   https://github.com/libgdx/libgdx\n",
              "2             pmndrs  ...        https://github.com/pmndrs/react-three-fiber\n",
              "3          BabylonJS  ...            https://github.com/BabylonJS/Babylon.js\n",
              "4           aframevr  ...                 https://github.com/aframevr/aframe\n",
              "5              ssloy  ...              https://github.com/ssloy/tinyrenderer\n",
              "6            lettier  ...  https://github.com/lettier/3d-game-shaders-for...\n",
              "7            FreeCAD  ...                 https://github.com/FreeCAD/FreeCAD\n",
              "8          metafizzy  ...                  https://github.com/metafizzy/zdog\n",
              "9           CesiumGS  ...                 https://github.com/CesiumGS/cesium\n",
              "10       timzhang642  ...  https://github.com/timzhang642/3D-Machine-Lear...\n",
              "11      a1studmuffin  ...  https://github.com/a1studmuffin/SpaceshipGener...\n",
              "12           isl-org  ...                  https://github.com/isl-org/Open3D\n",
              "13          spritejs  ...               https://github.com/spritejs/spritejs\n",
              "14           domlysz  ...              https://github.com/domlysz/BlenderGIS\n",
              "15  tensorspace-team  ...    https://github.com/tensorspace-team/tensorspace\n",
              "16           jagenjo  ...          https://github.com/jagenjo/webglstudio.js\n",
              "17           YadiraF  ...                   https://github.com/YadiraF/PRNet\n",
              "18      AaronJackson  ...                https://github.com/AaronJackson/vrn\n",
              "19          openscad  ...               https://github.com/openscad/openscad\n",
              "20             ssloy  ...             https://github.com/ssloy/tinyraytracer\n",
              "21           blender  ...                 https://github.com/blender/blender\n",
              "22             mosra  ...                    https://github.com/mosra/magnum\n",
              "23            google  ...             https://github.com/google/model-viewer\n",
              "24   gfxfundamentals  ...  https://github.com/gfxfundamentals/webgl-funda...\n",
              "25         cleardusk  ...                 https://github.com/cleardusk/3DDFA\n",
              "26         jasonlong  ...  https://github.com/jasonlong/isometric-contrib...\n",
              "27        rg3dengine  ...                 https://github.com/rg3dengine/rg3d\n",
              "28    cnr-isti-vclab  ...          https://github.com/cnr-isti-vclab/meshlab\n",
              "29            antvis  ...                       https://github.com/antvis/L7\n",
              "\n",
              "[30 rows x 4 columns]"
            ]
          },
          "metadata": {},
          "execution_count": 55
        }
      ]
    },
    {
      "cell_type": "code",
      "metadata": {
        "id": "piL-mxTifdU1"
      },
      "source": [
        ""
      ],
      "execution_count": null,
      "outputs": []
    }
  ]
}